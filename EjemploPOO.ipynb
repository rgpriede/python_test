{
  "nbformat": 4,
  "nbformat_minor": 0,
  "metadata": {
    "colab": {
      "name": "Hola_Mundo.ipynb",
      "provenance": [],
      "collapsed_sections": [],
      "authorship_tag": "ABX9TyMHlgNkkPbo4zX+4N1wZVm3",
      "include_colab_link": true
    },
    "kernelspec": {
      "name": "python3",
      "display_name": "Python 3"
    }
  },
  "cells": [
    {
      "cell_type": "markdown",
      "metadata": {
        "id": "view-in-github",
        "colab_type": "text"
      },
      "source": [
        "<a href=\"https://colab.research.google.com/github/rgpriede/python_test/blob/Documentation/EjemploPOO.ipynb\" target=\"_parent\"><img src=\"https://colab.research.google.com/assets/colab-badge.svg\" alt=\"Open In Colab\"/></a>"
      ]
    },
    {
      "cell_type": "code",
      "metadata": {
        "id": "ehjYTtZomYxz",
        "colab_type": "code",
        "colab": {}
      },
      "source": [
        ""
      ],
      "execution_count": 0,
      "outputs": []
    },
    {
      "cell_type": "code",
      "metadata": {
        "id": "wsDar2-Zmjwc",
        "colab_type": "code",
        "outputId": "90cb36aa-f54f-4cad-b283-2d3621e5c950",
        "colab": {
          "base_uri": "https://localhost:8080/",
          "height": 34
        }
      },
      "source": [
        "print('Hola Mundo')"
      ],
      "execution_count": 0,
      "outputs": [
        {
          "output_type": "stream",
          "text": [
            "Hola Mundo\n"
          ],
          "name": "stdout"
        }
      ]
    },
    {
      "cell_type": "markdown",
      "metadata": {
        "id": "b29RxtD8mrUQ",
        "colab_type": "text"
      },
      "source": [
        "Problema:\n",
        "Hacer un programa que sume los 10 primeros números.\n",
        "**imperativo**     \n",
        "sum=0\n",
        "sum+=1\n",
        "sum+=2\n",
        "sum+=3\n",
        "sum+=4\n",
        "...\n",
        "sum+=8\n",
        "sum+=9\n",
        "print('La suma total es: ', sum)\n",
        "**Procedural**\n",
        "def sum(n):\n",
        "  s=0\n",
        "  for i in range(0, n):\n",
        "    s += i\n",
        "    return s\n",
        "\n",
        "print('La suma total es: ',suma(10))\n",
        "\n",
        "La suma total es : 45\n",
        "\n",
        "**Object-Oriented**\n",
        "class sum:\n",
        "  def __init__(self,n):\n",
        "    self.n = n\n",
        "    self.s = 0\n",
        "\n",
        "  def operation(self):\n",
        "    for i in rango(0, self.n):\n",
        "      self.s += i\n",
        "    return self.s\n",
        "\n",
        "obj_sum= sum(10)\n",
        "print(\"La suma total es: \", obj_sum.operation())\n",
        "\n",
        "La suma total es : 45\n",
        "\n",
        "\n",
        "\n"
      ]
    },
    {
      "cell_type": "markdown",
      "metadata": {
        "id": "IMb6484fofzk",
        "colab_type": "text"
      },
      "source": [
        "labadora\n",
        "\n",
        "Persona que precisa labar la ropa + labadora\n",
        "\n",
        "Labadora:\n",
        "**Attributes:**\n",
        "-brandName\n",
        "-modelName\n",
        "-serialNumber\n",
        "-capacity\n",
        "**Operations**\n",
        "acceptClothes()\n",
        "acceptDetergent()\n",
        "turnOn()\n",
        "turnOff()\n",
        "\n",
        "class WashingMachine:\n",
        "  pass\n"
      ]
    },
    {
      "cell_type": "code",
      "metadata": {
        "id": "0Bh8D-q0pdDB",
        "colab_type": "code",
        "colab": {}
      },
      "source": [
        "class WashingMachine:\n",
        "  \n",
        "  def __init__(self, brandName, modelName, serialNumber, capacity):\n",
        "    self.brandName = brandName\n",
        "    self.modelName = modelName\n",
        "    self.serialNumber = serialNumber\n",
        "    self.capacity = capacity\n",
        "\n",
        "  def __del__(self):  # elimina instancia de la memoria\n",
        "    pass\n",
        "\n",
        "  def acceptClothed(self):\n",
        "    pass\n",
        "\n",
        "  def acceptDetergent():\n",
        "    pass\n",
        "\n",
        "  def turnOn():\n",
        "    pass\n",
        "\n",
        "  def turnOff():\n",
        "    pass\n",
        "\n",
        "  def displayData(self):\n",
        "    print('\\nBrandName : ', self.brandName)\n",
        "    print('ModelName: ', self.modelName)\n",
        "    print('SerialNumber :', self.serialNumber)\n",
        "    print('Capacity : ', self.capacity)\n",
        "\n",
        "# creando instancias objetos\n",
        "lavadora1 = WashingMachine('LG', 'X', '123', 5)\n",
        "\n",
        "  "
      ],
      "execution_count": 0,
      "outputs": []
    },
    {
      "cell_type": "code",
      "metadata": {
        "id": "6NA2EP1_rsn1",
        "colab_type": "code",
        "outputId": "6a351490-5ed7-40b8-cc2e-3689df4a9c34",
        "colab": {
          "base_uri": "https://localhost:8080/",
          "height": 102
        }
      },
      "source": [
        "lavadora1.displayData()"
      ],
      "execution_count": 0,
      "outputs": [
        {
          "output_type": "stream",
          "text": [
            "\n",
            "BrandName :  LG\n",
            "ModelName:  X\n",
            "SerialNumber : 123\n",
            "Capacity :  5\n"
          ],
          "name": "stdout"
        }
      ]
    },
    {
      "cell_type": "code",
      "metadata": {
        "id": "YRTb00VxsCeX",
        "colab_type": "code",
        "colab": {}
      },
      "source": [
        "lavadora2 = WashingMachine('Samsung','Y','456', 7)\n"
      ],
      "execution_count": 0,
      "outputs": []
    },
    {
      "cell_type": "code",
      "metadata": {
        "id": "owEwztLssWuT",
        "colab_type": "code",
        "colab": {}
      },
      "source": [
        "lavadora3 = WashingMachine('Daewo','Z','789', 10)"
      ],
      "execution_count": 0,
      "outputs": []
    },
    {
      "cell_type": "code",
      "metadata": {
        "id": "YSzSq-Fzsfn_",
        "colab_type": "code",
        "outputId": "0f5170b0-5f51-425e-fc2b-e3b923aeaae6",
        "colab": {
          "base_uri": "https://localhost:8080/",
          "height": 102
        }
      },
      "source": [
        "lavadora3.displayData()"
      ],
      "execution_count": 0,
      "outputs": [
        {
          "output_type": "stream",
          "text": [
            "\n",
            "BrandName :  Daewo\n",
            "ModelName:  Z\n",
            "SerialNumber : 789\n",
            "Capacity :  10\n"
          ],
          "name": "stdout"
        }
      ]
    },
    {
      "cell_type": "markdown",
      "metadata": {
        "id": "9Zm2EANXsqxj",
        "colab_type": "text"
      },
      "source": [
        ""
      ]
    },
    {
      "cell_type": "code",
      "metadata": {
        "id": "wdMaix-gsQjP",
        "colab_type": "code",
        "outputId": "550a4680-91be-407d-e6c6-6518193b883a",
        "colab": {
          "base_uri": "https://localhost:8080/",
          "height": 102
        }
      },
      "source": [
        "lavadora2.displayData()\n"
      ],
      "execution_count": 0,
      "outputs": [
        {
          "output_type": "stream",
          "text": [
            "\n",
            "BrandName :  Samsung\n",
            "ModelName:  Y\n",
            "SerialNumber : 456\n",
            "Capacity :  7\n"
          ],
          "name": "stdout"
        }
      ]
    },
    {
      "cell_type": "markdown",
      "metadata": {
        "id": "45dteNDossyE",
        "colab_type": "text"
      },
      "source": [
        "Abstaccion / encapsulacion / hiding data\n",
        "\n",
        "data abstraction = data encapsulation + data hiding\n",
        "\n",
        "objeto lleva a cabo operaciones y estas operaciones están ocultas. ejemplo control remoto\n",
        "\n",
        "tipos: publico, protegido, privado\n",
        "publico: acceso total\n",
        "protegido _nombre\n",
        "privado __nombre  no es posible acceso desde fuera clase\n"
      ]
    },
    {
      "cell_type": "code",
      "metadata": {
        "id": "f0QqdurJtuPx",
        "colab_type": "code",
        "colab": {}
      },
      "source": [
        "class WashingMachine:\n",
        "  \n",
        "  def __init__(self, brandName, modelName, serialNumber, capacity):\n",
        "    self.__brandName = brandName\n",
        "    self.__modelName = modelName\n",
        "    self.__serialNumber = serialNumber\n",
        "    self.__capacity = capacity\n",
        "\n",
        "  def __del__(self):  # elimina instancia de la memoria\n",
        "    pass\n",
        "\n",
        "  @property\n",
        "  def capacity(self):\n",
        "    return self.__capacity\n",
        "  \n",
        "  @capacity.setter\n",
        "  def capacity(self, value):\n",
        "    self.__capacity = value\n",
        "\n",
        "  def acceptClothed(self):\n",
        "    pass\n",
        "\n",
        "  def acceptDetergent():\n",
        "    pass\n",
        "\n",
        "  def turnOn():\n",
        "    pass\n",
        "\n",
        "  def turnOff():\n",
        "    pass\n",
        "\n",
        "  def displayData(self):\n",
        "    print('\\nBrandName : ', self.__brandName)\n",
        "    print('ModelName: ', self.__modelName)\n",
        "    print('SerialNumber :', self.__serialNumber)\n",
        "    print('Capacity : ', self.__capacity)"
      ],
      "execution_count": 0,
      "outputs": []
    },
    {
      "cell_type": "code",
      "metadata": {
        "id": "LyyRRnV3uBDZ",
        "colab_type": "code",
        "colab": {}
      },
      "source": [
        "lavadora1 = WashingMachine('LG', 'X', '123', 5)"
      ],
      "execution_count": 0,
      "outputs": []
    },
    {
      "cell_type": "code",
      "metadata": {
        "id": "y_EUwj1-uFP7",
        "colab_type": "code",
        "outputId": "e5451755-d965-4841-f56c-818e3b44d76e",
        "colab": {
          "base_uri": "https://localhost:8080/",
          "height": 102
        }
      },
      "source": [
        "lavadora1.displayData()"
      ],
      "execution_count": 0,
      "outputs": [
        {
          "output_type": "stream",
          "text": [
            "\n",
            "BrandName :  LG\n",
            "ModelName:  X\n",
            "SerialNumber : 123\n",
            "Capacity :  5\n"
          ],
          "name": "stdout"
        }
      ]
    },
    {
      "cell_type": "code",
      "metadata": {
        "id": "KPwN2c3ouhvr",
        "colab_type": "code",
        "outputId": "d91c88e9-11f7-4ae3-c87f-f8a8e6cf6385",
        "colab": {
          "base_uri": "https://localhost:8080/",
          "height": 34
        }
      },
      "source": [
        "#lavadora1.get_capacity() sin utilizar el decorador @property\n",
        "lavadora1.capacity"
      ],
      "execution_count": 0,
      "outputs": [
        {
          "output_type": "execute_result",
          "data": {
            "text/plain": [
              "5"
            ]
          },
          "metadata": {
            "tags": []
          },
          "execution_count": 44
        }
      ]
    },
    {
      "cell_type": "code",
      "metadata": {
        "id": "EdzBjVg9u7mI",
        "colab_type": "code",
        "colab": {}
      },
      "source": [
        "#lavadora1.set_capacity(20) sin utilizar el decorador @capacity.setter\n",
        "lavadora1.capacity = 30"
      ],
      "execution_count": 0,
      "outputs": []
    },
    {
      "cell_type": "code",
      "metadata": {
        "id": "kW_SE0vVvDQp",
        "colab_type": "code",
        "outputId": "eacf09ce-c49c-463e-8732-375e8204fafb",
        "colab": {
          "base_uri": "https://localhost:8080/",
          "height": 102
        }
      },
      "source": [
        "lavadora1.displayData()"
      ],
      "execution_count": 0,
      "outputs": [
        {
          "output_type": "stream",
          "text": [
            "\n",
            "BrandName :  LG\n",
            "ModelName:  X\n",
            "SerialNumber : 123\n",
            "Capacity :  30\n"
          ],
          "name": "stdout"
        }
      ]
    },
    {
      "cell_type": "markdown",
      "metadata": {
        "id": "P2qSADozwzAp",
        "colab_type": "text"
      },
      "source": [
        "Herencia....\n",
        "SUPERCLASS\n",
        "    APARATO ELECTRICO\n",
        "SUBCLASS\n",
        "LAVADORA   FRIGORIFICO   TV\n",
        "\n",
        "HERENCIA MULTIPLE\n",
        "\n",
        "        ANIMAL\n",
        "\n",
        "ANFIBIO    \n",
        "\n",
        "\n",
        "> Bloque con sangría\n",
        "\n"
      ]
    },
    {
      "cell_type": "code",
      "metadata": {
        "id": "_ELrXnq5xP1J",
        "colab_type": "code",
        "colab": {}
      },
      "source": [
        "class A:\n",
        "    def func1(self):\n",
        "      print('this is function class A')\n",
        "\n",
        "class B(A):\n",
        "    def func2(self):\n",
        "      print('this is function class B')\n",
        "\n"
      ],
      "execution_count": 0,
      "outputs": []
    },
    {
      "cell_type": "code",
      "metadata": {
        "id": "0BuB_36zxop7",
        "colab_type": "code",
        "colab": {}
      },
      "source": [
        "ob=B()"
      ],
      "execution_count": 0,
      "outputs": []
    },
    {
      "cell_type": "code",
      "metadata": {
        "id": "tAGuVcrJx0FM",
        "colab_type": "code",
        "outputId": "e0ff1427-0d1d-47b9-af3b-f3e49829ecb6",
        "colab": {
          "base_uri": "https://localhost:8080/",
          "height": 34
        }
      },
      "source": [
        "ob.func1()"
      ],
      "execution_count": 0,
      "outputs": [
        {
          "output_type": "stream",
          "text": [
            "this is function class A\n"
          ],
          "name": "stdout"
        }
      ]
    },
    {
      "cell_type": "code",
      "metadata": {
        "id": "Jkr1t1udyYiQ",
        "colab_type": "code",
        "outputId": "357e52a3-33b5-4b72-b0e4-e7c895253828",
        "colab": {
          "base_uri": "https://localhost:8080/",
          "height": 34
        }
      },
      "source": [
        "ob.func2()"
      ],
      "execution_count": 0,
      "outputs": [
        {
          "output_type": "stream",
          "text": [
            "this is function class B\n"
          ],
          "name": "stdout"
        }
      ]
    },
    {
      "cell_type": "markdown",
      "metadata": {
        "id": "ywuEMRh-ygNZ",
        "colab_type": "text"
      },
      "source": [
        "Herencia Multinivel"
      ]
    },
    {
      "cell_type": "code",
      "metadata": {
        "id": "YtxWWygEymk5",
        "colab_type": "code",
        "colab": {}
      },
      "source": [
        "class A:\n",
        "  def func1(self):\n",
        "    print('this is function 1')\n",
        "\n",
        "class B(A):\n",
        "  def func2(self):\n",
        "    print('this is function 2')\n",
        "\n",
        "class C(B):\n",
        "  def func3(self):\n",
        "    print('this is funciont 3')"
      ],
      "execution_count": 0,
      "outputs": []
    },
    {
      "cell_type": "code",
      "metadata": {
        "id": "YFt21oXHzB88",
        "colab_type": "code",
        "colab": {}
      },
      "source": [
        "ob=B()"
      ],
      "execution_count": 0,
      "outputs": []
    },
    {
      "cell_type": "code",
      "metadata": {
        "id": "CEnjRbxhzGla",
        "colab_type": "code",
        "colab": {}
      },
      "source": [
        "ob1=C()"
      ],
      "execution_count": 0,
      "outputs": []
    },
    {
      "cell_type": "code",
      "metadata": {
        "id": "rXT4hl5dzJkY",
        "colab_type": "code",
        "outputId": "40538467-c89b-43f4-f336-a51dd91cd541",
        "colab": {
          "base_uri": "https://localhost:8080/",
          "height": 34
        }
      },
      "source": [
        "ob1.func1()"
      ],
      "execution_count": 0,
      "outputs": [
        {
          "output_type": "stream",
          "text": [
            "this is function 1\n"
          ],
          "name": "stdout"
        }
      ]
    },
    {
      "cell_type": "code",
      "metadata": {
        "id": "G8Zbe-6rzPTf",
        "colab_type": "code",
        "outputId": "2708651a-45d1-425b-a247-fa43f256d772",
        "colab": {
          "base_uri": "https://localhost:8080/",
          "height": 34
        }
      },
      "source": [
        "ob1.func2()"
      ],
      "execution_count": 0,
      "outputs": [
        {
          "output_type": "stream",
          "text": [
            "this is function 2\n"
          ],
          "name": "stdout"
        }
      ]
    },
    {
      "cell_type": "code",
      "metadata": {
        "id": "Rd40k32dzTYC",
        "colab_type": "code",
        "outputId": "80296a4d-095a-4a06-b78d-c0bc1cf33259",
        "colab": {
          "base_uri": "https://localhost:8080/",
          "height": 34
        }
      },
      "source": [
        "ob1.func3()"
      ],
      "execution_count": 0,
      "outputs": [
        {
          "output_type": "stream",
          "text": [
            "this is funciont 3\n"
          ],
          "name": "stdout"
        }
      ]
    },
    {
      "cell_type": "markdown",
      "metadata": {
        "id": "xNP4CCkc0ARj",
        "colab_type": "text"
      },
      "source": [
        "HERENCIA JERARQUICA\n"
      ]
    },
    {
      "cell_type": "code",
      "metadata": {
        "id": "IxfL4-MW0C6f",
        "colab_type": "code",
        "colab": {}
      },
      "source": [
        "class A:\n",
        "  def func1(self):\n",
        "    print('this is function 1')\n",
        "\n",
        "class B(A):\n",
        "  def func2(self):\n",
        "    print('this is function 2')\n",
        "\n",
        "class C(A):\n",
        "  def func3(self):\n",
        "    print('this is funciont 3')"
      ],
      "execution_count": 0,
      "outputs": []
    },
    {
      "cell_type": "code",
      "metadata": {
        "id": "iVOYgwfz0jpm",
        "colab_type": "code",
        "colab": {}
      },
      "source": [
        "obj_b=B()"
      ],
      "execution_count": 0,
      "outputs": []
    },
    {
      "cell_type": "code",
      "metadata": {
        "id": "gZRiibn60m87",
        "colab_type": "code",
        "colab": {}
      },
      "source": [
        "obj_c=C()"
      ],
      "execution_count": 0,
      "outputs": []
    },
    {
      "cell_type": "code",
      "metadata": {
        "id": "_4h2jsh00wTP",
        "colab_type": "code",
        "outputId": "1208161f-65ff-48ad-864a-db0255b1f832",
        "colab": {
          "base_uri": "https://localhost:8080/",
          "height": 34
        }
      },
      "source": [
        "obj_c.func1()"
      ],
      "execution_count": 0,
      "outputs": [
        {
          "output_type": "stream",
          "text": [
            "this is function 1\n"
          ],
          "name": "stdout"
        }
      ]
    },
    {
      "cell_type": "markdown",
      "metadata": {
        "id": "cf_7bNl6012A",
        "colab_type": "text"
      },
      "source": [
        "HERENCIA MÚLTIPLE\n"
      ]
    },
    {
      "cell_type": "code",
      "metadata": {
        "id": "q3OeD8d004ug",
        "colab_type": "code",
        "colab": {}
      },
      "source": [
        "class A:\n",
        "  def func1(self):\n",
        "    print('this is function 1')\n",
        "\n",
        "class B:\n",
        "  def func2(self):\n",
        "    print('this is function 2')\n",
        "\n",
        "class C(A, B):\n",
        "  def func3(self):\n",
        "    print('this is funciont 3')"
      ],
      "execution_count": 0,
      "outputs": []
    },
    {
      "cell_type": "code",
      "metadata": {
        "id": "I2Z3xlBT1GY3",
        "colab_type": "code",
        "colab": {}
      },
      "source": [
        "obj=C()"
      ],
      "execution_count": 0,
      "outputs": []
    },
    {
      "cell_type": "code",
      "metadata": {
        "id": "r-ACXcJO1Lsa",
        "colab_type": "code",
        "outputId": "4e8f0d94-384b-4ff3-c1bc-a4efa9639b3d",
        "colab": {
          "base_uri": "https://localhost:8080/",
          "height": 34
        }
      },
      "source": [
        "obj.func1()"
      ],
      "execution_count": 0,
      "outputs": [
        {
          "output_type": "stream",
          "text": [
            "this is function 1\n"
          ],
          "name": "stdout"
        }
      ]
    },
    {
      "cell_type": "code",
      "metadata": {
        "id": "rb5t42U71QHe",
        "colab_type": "code",
        "outputId": "b8f6e7e3-6ba4-4623-a41c-3bf84600e3e0",
        "colab": {
          "base_uri": "https://localhost:8080/",
          "height": 34
        }
      },
      "source": [
        "obj.func2()"
      ],
      "execution_count": 0,
      "outputs": [
        {
          "output_type": "stream",
          "text": [
            "this is function 2\n"
          ],
          "name": "stdout"
        }
      ]
    },
    {
      "cell_type": "markdown",
      "metadata": {
        "id": "BFbuRwUx1u_c",
        "colab_type": "text"
      },
      "source": [
        "SUPER"
      ]
    },
    {
      "cell_type": "code",
      "metadata": {
        "id": "_PsoJ8Yy1yIQ",
        "colab_type": "code",
        "colab": {}
      },
      "source": [
        "class Person:\n",
        "  def __init__(self, fname, lname):\n",
        "    self.__firstname = fname\n",
        "    self.__lastname = lname\n",
        "\n",
        "  def printname(self):\n",
        "    return self.__firstname + ' ' + self.__lastname"
      ],
      "execution_count": 0,
      "outputs": []
    },
    {
      "cell_type": "code",
      "metadata": {
        "id": "-5Y0iZU-2fA8",
        "colab_type": "code",
        "colab": {}
      },
      "source": [
        "class Student(Person):\n",
        "  def __init__(self, fname, lname, year):\n",
        "    super().__init__(fname, lname)\n",
        "    self.__graduationyear = year\n",
        "\n",
        "  def welcome(self):\n",
        "    print('Welcome '+ self.printname() + ' to the class of ', self.__graduationyear)"
      ],
      "execution_count": 0,
      "outputs": []
    },
    {
      "cell_type": "code",
      "metadata": {
        "id": "V6xe5x7T3KmK",
        "colab_type": "code",
        "colab": {}
      },
      "source": [
        "p1 = Student('Roberto', 'Galán', 1982)"
      ],
      "execution_count": 0,
      "outputs": []
    },
    {
      "cell_type": "code",
      "metadata": {
        "id": "w89LzLlU3cmT",
        "colab_type": "code",
        "outputId": "643c3afc-6c47-46e6-f0a1-26317b98bdfa",
        "colab": {
          "base_uri": "https://localhost:8080/",
          "height": 34
        }
      },
      "source": [
        "p1.welcome()"
      ],
      "execution_count": 0,
      "outputs": [
        {
          "output_type": "stream",
          "text": [
            "Welcome Roberto Galán to the class of  1982\n"
          ],
          "name": "stdout"
        }
      ]
    },
    {
      "cell_type": "code",
      "metadata": {
        "id": "EEKJVsL93ww8",
        "colab_type": "code",
        "outputId": "e36d0836-b22b-4c3b-e2f2-8856c5d308a6",
        "colab": {
          "base_uri": "https://localhost:8080/",
          "height": 34
        }
      },
      "source": [
        "p1.printname()"
      ],
      "execution_count": 0,
      "outputs": [
        {
          "output_type": "execute_result",
          "data": {
            "text/plain": [
              "'Roberto Galán'"
            ]
          },
          "metadata": {
            "tags": []
          },
          "execution_count": 79
        }
      ]
    },
    {
      "cell_type": "code",
      "metadata": {
        "id": "qqf6ivzb4FIC",
        "colab_type": "code",
        "outputId": "a62d1cb5-07d1-48e9-f706-ccc7eb1021c4",
        "colab": {
          "base_uri": "https://localhost:8080/",
          "height": 34
        }
      },
      "source": [
        "print(p1.printname())"
      ],
      "execution_count": 0,
      "outputs": [
        {
          "output_type": "stream",
          "text": [
            "Roberto Galán\n"
          ],
          "name": "stdout"
        }
      ]
    },
    {
      "cell_type": "markdown",
      "metadata": {
        "id": "P_QCi8iN4Ceq",
        "colab_type": "text"
      },
      "source": [
        "Class Abstract"
      ]
    },
    {
      "cell_type": "code",
      "metadata": {
        "id": "ndUz-SI94qYW",
        "colab_type": "code",
        "colab": {}
      },
      "source": [
        "from abc import ABC, abstractmethod\n",
        "class Shape(ABC):\n",
        "  @abstractmethod\n",
        "  def area(self):\n",
        "    pass\n",
        "  \n",
        "  @abstractmethod \n",
        "  def perimeter(self):\n",
        "    pass"
      ],
      "execution_count": 0,
      "outputs": []
    },
    {
      "cell_type": "code",
      "metadata": {
        "id": "dIbAlfWY5Npf",
        "colab_type": "code",
        "colab": {}
      },
      "source": [
        "class Rectangle(Shape):\n",
        "  def __init__(self, lenght, width):\n",
        "    self.__lenght = lenght\n",
        "    self.__width = width\n",
        "\n",
        "  def area(self):\n",
        "    return self.__lenght*self.__width\n",
        "\n",
        "  def perimeter(self):\n",
        "    return 2*(self.__lenght+self.__width)"
      ],
      "execution_count": 0,
      "outputs": []
    },
    {
      "cell_type": "markdown",
      "metadata": {
        "id": "J5xPEeSN4pmx",
        "colab_type": "text"
      },
      "source": [
        ""
      ]
    },
    {
      "cell_type": "code",
      "metadata": {
        "id": "TRvcA7X95yh_",
        "colab_type": "code",
        "colab": {}
      },
      "source": [
        "R1=Rectangle(2,4)"
      ],
      "execution_count": 0,
      "outputs": []
    },
    {
      "cell_type": "code",
      "metadata": {
        "id": "8tjlQQDG53i4",
        "colab_type": "code",
        "outputId": "8ff6c131-100d-4a2e-fa56-8ccfe12f0c9a",
        "colab": {
          "base_uri": "https://localhost:8080/",
          "height": 34
        }
      },
      "source": [
        "print(R1.area())"
      ],
      "execution_count": 0,
      "outputs": [
        {
          "output_type": "stream",
          "text": [
            "8\n"
          ],
          "name": "stdout"
        }
      ]
    },
    {
      "cell_type": "code",
      "metadata": {
        "id": "ieLlQoS86GL4",
        "colab_type": "code",
        "outputId": "6ad7b1aa-5ee7-4096-bb3b-e8ddc11a5246",
        "colab": {
          "base_uri": "https://localhost:8080/",
          "height": 34
        }
      },
      "source": [
        "print(R1.perimeter())"
      ],
      "execution_count": 0,
      "outputs": [
        {
          "output_type": "stream",
          "text": [
            "12\n"
          ],
          "name": "stdout"
        }
      ]
    },
    {
      "cell_type": "markdown",
      "metadata": {
        "id": "T0-91p_S6SZX",
        "colab_type": "text"
      },
      "source": [
        "POLIMORFISMO"
      ]
    },
    {
      "cell_type": "code",
      "metadata": {
        "id": "1DwOU4MH6WIX",
        "colab_type": "code",
        "colab": {}
      },
      "source": [
        "from abc import ABC, abstractclassmethod\n",
        "class Animal(ABC):\n",
        "  def __init__(self, name):\n",
        "    self.name = name\n",
        "\n",
        "  @abstractmethod\n",
        "  def talk(self):\n",
        "    pass\n",
        "    "
      ],
      "execution_count": 0,
      "outputs": []
    },
    {
      "cell_type": "code",
      "metadata": {
        "id": "FnL0oQFF69zj",
        "colab_type": "code",
        "colab": {}
      },
      "source": [
        "class Dog(Animal):\n",
        "  def talk(self):\n",
        "    return f'Bow..Bow...'\n",
        "\n",
        "class Cat(Animal):\n",
        "  def talk(self):\n",
        "    return f'Miau...Miau...'\n",
        "\n",
        "class Duck(Animal):\n",
        "  def talk(self):\n",
        "    return f'Quack...Quack'\n",
        "\n",
        "class Human(Animal):\n",
        "  def talk(self):\n",
        "    return f'Hello...Hello...'"
      ],
      "execution_count": 0,
      "outputs": []
    },
    {
      "cell_type": "code",
      "metadata": {
        "id": "q6PH5GyU7jhH",
        "colab_type": "code",
        "colab": {}
      },
      "source": [
        "object_list = [Dog('Dog'), Cat('Cat'), Duck('Duck'), Human('Human')]"
      ],
      "execution_count": 0,
      "outputs": []
    },
    {
      "cell_type": "code",
      "metadata": {
        "id": "BJMgs9bD7-M8",
        "colab_type": "code",
        "outputId": "e6a808c3-b3db-4e36-a149-132b3d4c12be",
        "colab": {
          "base_uri": "https://localhost:8080/",
          "height": 221
        }
      },
      "source": [
        "for obj in object_list:\n",
        "  print('Name : %s' % obj.name)\n",
        "  print('Talk : %s' % obj.talk())\n",
        "  print('-'*30)"
      ],
      "execution_count": 0,
      "outputs": [
        {
          "output_type": "stream",
          "text": [
            "Name : Dog\n",
            "Talk : Bow..Bow...\n",
            "------------------------------\n",
            "Name : Cat\n",
            "Talk : Miau...Miau...\n",
            "------------------------------\n",
            "Name : Duck\n",
            "Talk : Quack...Quack\n",
            "------------------------------\n",
            "Name : Human\n",
            "Talk : Hello...Hello...\n",
            "------------------------------\n"
          ],
          "name": "stdout"
        }
      ]
    }
  ]
}